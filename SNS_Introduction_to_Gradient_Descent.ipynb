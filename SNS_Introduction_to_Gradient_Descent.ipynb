{
  "nbformat": 4,
  "nbformat_minor": 0,
  "metadata": {
    "colab": {
      "provenance": [],
      "include_colab_link": true
    },
    "kernelspec": {
      "name": "python3",
      "display_name": "Python 3"
    },
    "language_info": {
      "name": "python"
    }
  },
  "cells": [
    {
      "cell_type": "markdown",
      "metadata": {
        "id": "view-in-github",
        "colab_type": "text"
      },
      "source": [
        "<a href=\"https://colab.research.google.com/github/sudheesn/sudheesn/blob/main/SNS_Introduction_to_Gradient_Descent.ipynb\" target=\"_parent\"><img src=\"https://colab.research.google.com/assets/colab-badge.svg\" alt=\"Open In Colab\"/></a>"
      ]
    },
    {
      "cell_type": "markdown",
      "metadata": {
        "id": "FRbIcCiotoce"
      },
      "source": [
        "<a name=\"TF-KS\"></a>\n",
        "## **Introduction to Gradient Descent**"
      ]
    },
    {
      "cell_type": "markdown",
      "metadata": {
        "id": "mR78a4QIbEow"
      },
      "source": [
        "<a name=\"Dataset\"></a>\n",
        "## **Dataset**\n"
      ]
    },
    {
      "cell_type": "markdown",
      "metadata": {
        "id": "SGHwaOOxQXJe"
      },
      "source": [
        "<h4>Used Cars</h4>\n",
        "\n",
        "<p><img alt=\"Colaboratory logo\" height=\"100px\" src=\"https://upload.wikimedia.org/wikipedia/commons/thumb/9/99/GAZ-24_Volga.svg/640px-GAZ-24_Volga.svg.png\" align=\"center\" hspace=\"10px\" vspace=\"0px\"></p>"
      ]
    },
    {
      "cell_type": "code",
      "metadata": {
        "colab": {
          "base_uri": "https://localhost:8080/"
        },
        "id": "tVe2wKVGSwIV",
        "outputId": "531b50d4-b144-4fc1-8986-c753455b7dcc"
      },
      "source": [
        "from google.colab import drive\n",
        "drive.mount('/content/drive/')"
      ],
      "execution_count": null,
      "outputs": [
        {
          "output_type": "stream",
          "name": "stdout",
          "text": [
            "Mounted at /content/drive/\n"
          ]
        }
      ]
    },
    {
      "cell_type": "code",
      "metadata": {
        "colab": {
          "base_uri": "https://localhost:8080/",
          "height": 206
        },
        "id": "59_A44_uS6PP",
        "outputId": "2ccd541b-f39c-4801-af5d-a8f155ffbee0"
      },
      "source": [
        "import pandas as pd\n",
        "\n",
        "filename = \"/content/drive/My Drive/aimlcontent/04A-DeepLearning/ann_used_cars.csv\"\n",
        "\n",
        "#data = pd.read_csv(\"/content/drive/My Drive/ann_used_cars.csv\", usecols=[\"mileage\", \"price\"])\n",
        "data = pd.read_csv(filename, usecols=[\"mileage\", \"price\"])\n",
        "\n",
        "data.head()"
      ],
      "execution_count": null,
      "outputs": [
        {
          "output_type": "execute_result",
          "data": {
            "text/plain": [
              "   price  mileage\n",
              "0  21992     7413\n",
              "1  20995    10926\n",
              "2  19995     7351\n",
              "3  17809    11613\n",
              "4  17500     8367"
            ],
            "text/html": [
              "\n",
              "  <div id=\"df-fb06e5c6-b52f-40fd-9800-ad7cad8c89e6\" class=\"colab-df-container\">\n",
              "    <div>\n",
              "<style scoped>\n",
              "    .dataframe tbody tr th:only-of-type {\n",
              "        vertical-align: middle;\n",
              "    }\n",
              "\n",
              "    .dataframe tbody tr th {\n",
              "        vertical-align: top;\n",
              "    }\n",
              "\n",
              "    .dataframe thead th {\n",
              "        text-align: right;\n",
              "    }\n",
              "</style>\n",
              "<table border=\"1\" class=\"dataframe\">\n",
              "  <thead>\n",
              "    <tr style=\"text-align: right;\">\n",
              "      <th></th>\n",
              "      <th>price</th>\n",
              "      <th>mileage</th>\n",
              "    </tr>\n",
              "  </thead>\n",
              "  <tbody>\n",
              "    <tr>\n",
              "      <th>0</th>\n",
              "      <td>21992</td>\n",
              "      <td>7413</td>\n",
              "    </tr>\n",
              "    <tr>\n",
              "      <th>1</th>\n",
              "      <td>20995</td>\n",
              "      <td>10926</td>\n",
              "    </tr>\n",
              "    <tr>\n",
              "      <th>2</th>\n",
              "      <td>19995</td>\n",
              "      <td>7351</td>\n",
              "    </tr>\n",
              "    <tr>\n",
              "      <th>3</th>\n",
              "      <td>17809</td>\n",
              "      <td>11613</td>\n",
              "    </tr>\n",
              "    <tr>\n",
              "      <th>4</th>\n",
              "      <td>17500</td>\n",
              "      <td>8367</td>\n",
              "    </tr>\n",
              "  </tbody>\n",
              "</table>\n",
              "</div>\n",
              "    <div class=\"colab-df-buttons\">\n",
              "\n",
              "  <div class=\"colab-df-container\">\n",
              "    <button class=\"colab-df-convert\" onclick=\"convertToInteractive('df-fb06e5c6-b52f-40fd-9800-ad7cad8c89e6')\"\n",
              "            title=\"Convert this dataframe to an interactive table.\"\n",
              "            style=\"display:none;\">\n",
              "\n",
              "  <svg xmlns=\"http://www.w3.org/2000/svg\" height=\"24px\" viewBox=\"0 -960 960 960\">\n",
              "    <path d=\"M120-120v-720h720v720H120Zm60-500h600v-160H180v160Zm220 220h160v-160H400v160Zm0 220h160v-160H400v160ZM180-400h160v-160H180v160Zm440 0h160v-160H620v160ZM180-180h160v-160H180v160Zm440 0h160v-160H620v160Z\"/>\n",
              "  </svg>\n",
              "    </button>\n",
              "\n",
              "  <style>\n",
              "    .colab-df-container {\n",
              "      display:flex;\n",
              "      gap: 12px;\n",
              "    }\n",
              "\n",
              "    .colab-df-convert {\n",
              "      background-color: #E8F0FE;\n",
              "      border: none;\n",
              "      border-radius: 50%;\n",
              "      cursor: pointer;\n",
              "      display: none;\n",
              "      fill: #1967D2;\n",
              "      height: 32px;\n",
              "      padding: 0 0 0 0;\n",
              "      width: 32px;\n",
              "    }\n",
              "\n",
              "    .colab-df-convert:hover {\n",
              "      background-color: #E2EBFA;\n",
              "      box-shadow: 0px 1px 2px rgba(60, 64, 67, 0.3), 0px 1px 3px 1px rgba(60, 64, 67, 0.15);\n",
              "      fill: #174EA6;\n",
              "    }\n",
              "\n",
              "    .colab-df-buttons div {\n",
              "      margin-bottom: 4px;\n",
              "    }\n",
              "\n",
              "    [theme=dark] .colab-df-convert {\n",
              "      background-color: #3B4455;\n",
              "      fill: #D2E3FC;\n",
              "    }\n",
              "\n",
              "    [theme=dark] .colab-df-convert:hover {\n",
              "      background-color: #434B5C;\n",
              "      box-shadow: 0px 1px 3px 1px rgba(0, 0, 0, 0.15);\n",
              "      filter: drop-shadow(0px 1px 2px rgba(0, 0, 0, 0.3));\n",
              "      fill: #FFFFFF;\n",
              "    }\n",
              "  </style>\n",
              "\n",
              "    <script>\n",
              "      const buttonEl =\n",
              "        document.querySelector('#df-fb06e5c6-b52f-40fd-9800-ad7cad8c89e6 button.colab-df-convert');\n",
              "      buttonEl.style.display =\n",
              "        google.colab.kernel.accessAllowed ? 'block' : 'none';\n",
              "\n",
              "      async function convertToInteractive(key) {\n",
              "        const element = document.querySelector('#df-fb06e5c6-b52f-40fd-9800-ad7cad8c89e6');\n",
              "        const dataTable =\n",
              "          await google.colab.kernel.invokeFunction('convertToInteractive',\n",
              "                                                    [key], {});\n",
              "        if (!dataTable) return;\n",
              "\n",
              "        const docLinkHtml = 'Like what you see? Visit the ' +\n",
              "          '<a target=\"_blank\" href=https://colab.research.google.com/notebooks/data_table.ipynb>data table notebook</a>'\n",
              "          + ' to learn more about interactive tables.';\n",
              "        element.innerHTML = '';\n",
              "        dataTable['output_type'] = 'display_data';\n",
              "        await google.colab.output.renderOutput(dataTable, element);\n",
              "        const docLink = document.createElement('div');\n",
              "        docLink.innerHTML = docLinkHtml;\n",
              "        element.appendChild(docLink);\n",
              "      }\n",
              "    </script>\n",
              "  </div>\n",
              "\n",
              "\n",
              "<div id=\"df-602b5026-add4-45c9-9d94-bec329701429\">\n",
              "  <button class=\"colab-df-quickchart\" onclick=\"quickchart('df-602b5026-add4-45c9-9d94-bec329701429')\"\n",
              "            title=\"Suggest charts\"\n",
              "            style=\"display:none;\">\n",
              "\n",
              "<svg xmlns=\"http://www.w3.org/2000/svg\" height=\"24px\"viewBox=\"0 0 24 24\"\n",
              "     width=\"24px\">\n",
              "    <g>\n",
              "        <path d=\"M19 3H5c-1.1 0-2 .9-2 2v14c0 1.1.9 2 2 2h14c1.1 0 2-.9 2-2V5c0-1.1-.9-2-2-2zM9 17H7v-7h2v7zm4 0h-2V7h2v10zm4 0h-2v-4h2v4z\"/>\n",
              "    </g>\n",
              "</svg>\n",
              "  </button>\n",
              "\n",
              "<style>\n",
              "  .colab-df-quickchart {\n",
              "      --bg-color: #E8F0FE;\n",
              "      --fill-color: #1967D2;\n",
              "      --hover-bg-color: #E2EBFA;\n",
              "      --hover-fill-color: #174EA6;\n",
              "      --disabled-fill-color: #AAA;\n",
              "      --disabled-bg-color: #DDD;\n",
              "  }\n",
              "\n",
              "  [theme=dark] .colab-df-quickchart {\n",
              "      --bg-color: #3B4455;\n",
              "      --fill-color: #D2E3FC;\n",
              "      --hover-bg-color: #434B5C;\n",
              "      --hover-fill-color: #FFFFFF;\n",
              "      --disabled-bg-color: #3B4455;\n",
              "      --disabled-fill-color: #666;\n",
              "  }\n",
              "\n",
              "  .colab-df-quickchart {\n",
              "    background-color: var(--bg-color);\n",
              "    border: none;\n",
              "    border-radius: 50%;\n",
              "    cursor: pointer;\n",
              "    display: none;\n",
              "    fill: var(--fill-color);\n",
              "    height: 32px;\n",
              "    padding: 0;\n",
              "    width: 32px;\n",
              "  }\n",
              "\n",
              "  .colab-df-quickchart:hover {\n",
              "    background-color: var(--hover-bg-color);\n",
              "    box-shadow: 0 1px 2px rgba(60, 64, 67, 0.3), 0 1px 3px 1px rgba(60, 64, 67, 0.15);\n",
              "    fill: var(--button-hover-fill-color);\n",
              "  }\n",
              "\n",
              "  .colab-df-quickchart-complete:disabled,\n",
              "  .colab-df-quickchart-complete:disabled:hover {\n",
              "    background-color: var(--disabled-bg-color);\n",
              "    fill: var(--disabled-fill-color);\n",
              "    box-shadow: none;\n",
              "  }\n",
              "\n",
              "  .colab-df-spinner {\n",
              "    border: 2px solid var(--fill-color);\n",
              "    border-color: transparent;\n",
              "    border-bottom-color: var(--fill-color);\n",
              "    animation:\n",
              "      spin 1s steps(1) infinite;\n",
              "  }\n",
              "\n",
              "  @keyframes spin {\n",
              "    0% {\n",
              "      border-color: transparent;\n",
              "      border-bottom-color: var(--fill-color);\n",
              "      border-left-color: var(--fill-color);\n",
              "    }\n",
              "    20% {\n",
              "      border-color: transparent;\n",
              "      border-left-color: var(--fill-color);\n",
              "      border-top-color: var(--fill-color);\n",
              "    }\n",
              "    30% {\n",
              "      border-color: transparent;\n",
              "      border-left-color: var(--fill-color);\n",
              "      border-top-color: var(--fill-color);\n",
              "      border-right-color: var(--fill-color);\n",
              "    }\n",
              "    40% {\n",
              "      border-color: transparent;\n",
              "      border-right-color: var(--fill-color);\n",
              "      border-top-color: var(--fill-color);\n",
              "    }\n",
              "    60% {\n",
              "      border-color: transparent;\n",
              "      border-right-color: var(--fill-color);\n",
              "    }\n",
              "    80% {\n",
              "      border-color: transparent;\n",
              "      border-right-color: var(--fill-color);\n",
              "      border-bottom-color: var(--fill-color);\n",
              "    }\n",
              "    90% {\n",
              "      border-color: transparent;\n",
              "      border-bottom-color: var(--fill-color);\n",
              "    }\n",
              "  }\n",
              "</style>\n",
              "\n",
              "  <script>\n",
              "    async function quickchart(key) {\n",
              "      const quickchartButtonEl =\n",
              "        document.querySelector('#' + key + ' button');\n",
              "      quickchartButtonEl.disabled = true;  // To prevent multiple clicks.\n",
              "      quickchartButtonEl.classList.add('colab-df-spinner');\n",
              "      try {\n",
              "        const charts = await google.colab.kernel.invokeFunction(\n",
              "            'suggestCharts', [key], {});\n",
              "      } catch (error) {\n",
              "        console.error('Error during call to suggestCharts:', error);\n",
              "      }\n",
              "      quickchartButtonEl.classList.remove('colab-df-spinner');\n",
              "      quickchartButtonEl.classList.add('colab-df-quickchart-complete');\n",
              "    }\n",
              "    (() => {\n",
              "      let quickchartButtonEl =\n",
              "        document.querySelector('#df-602b5026-add4-45c9-9d94-bec329701429 button');\n",
              "      quickchartButtonEl.style.display =\n",
              "        google.colab.kernel.accessAllowed ? 'block' : 'none';\n",
              "    })();\n",
              "  </script>\n",
              "</div>\n",
              "    </div>\n",
              "  </div>\n"
            ]
          },
          "metadata": {},
          "execution_count": 2
        }
      ]
    },
    {
      "cell_type": "code",
      "metadata": {
        "id": "xm04xHez9rF_"
      },
      "source": [
        "from sklearn.model_selection import train_test_split\n",
        "X_train, X_test, y_train, y_test = train_test_split(data['mileage'], data['price'], test_size=0.3, random_state=42)"
      ],
      "execution_count": null,
      "outputs": []
    },
    {
      "cell_type": "code",
      "metadata": {
        "id": "6iFUBMV4EpY2"
      },
      "source": [
        "# Normalizing\n",
        "import numpy as np\n",
        "X_train = np.atleast_2d(X_train).T\n",
        "from sklearn import preprocessing\n",
        "scaler = preprocessing.MinMaxScaler()\n",
        "X_train = scaler.fit_transform(X_train)"
      ],
      "execution_count": null,
      "outputs": []
    },
    {
      "cell_type": "code",
      "metadata": {
        "id": "ZgIdr3eivVqA"
      },
      "source": [
        "# Convert dataset to tensors\n",
        "import tensorflow as tf\n",
        "\n",
        "X_train=tf.convert_to_tensor(X_train, dtype= tf.float32)\n",
        "y_train=tf.convert_to_tensor(y_train, dtype= tf.float32)"
      ],
      "execution_count": null,
      "outputs": []
    },
    {
      "cell_type": "markdown",
      "metadata": {
        "id": "qbwcucURbJRM"
      },
      "source": [
        "<a name=\"Training\"></a>\n",
        "## **Gradient Descent**\n"
      ]
    },
    {
      "cell_type": "markdown",
      "metadata": {
        "id": "bI_R8pu8SUVf"
      },
      "source": [
        "<a href=\"https://ibb.co/qntkSS8\"><img src=\"https://i.ibb.co/n0HzGGy/gd.png\" height=\"250px\" alt=\"gd\" border=\"0\"></a>"
      ]
    },
    {
      "cell_type": "markdown",
      "metadata": {
        "id": "IC2dGa8ZTGlD"
      },
      "source": [
        "### **Step 1: Start at a random bias and weight**\n",
        "\n",
        "\n",
        "\n"
      ]
    },
    {
      "cell_type": "code",
      "metadata": {
        "id": "wc0dUc_InFPl",
        "colab": {
          "base_uri": "https://localhost:8080/"
        },
        "outputId": "c5d7de6b-7e63-4075-e119-bbf6b8bbb009"
      },
      "source": [
        "input_dim = X_train.shape[1]\n",
        "output_dim = 1\n",
        "learning_rate = 0.01\n",
        "\n",
        "weight = tf.Variable(tf.random.normal([input_dim, output_dim]))\n",
        "bias = tf.Variable(tf.random.normal([output_dim,]))\n",
        "print(weight)\n",
        "print(bias)"
      ],
      "execution_count": null,
      "outputs": [
        {
          "output_type": "stream",
          "name": "stdout",
          "text": [
            "<tf.Variable 'Variable:0' shape=(1, 1) dtype=float32, numpy=array([[0.7678252]], dtype=float32)>\n",
            "<tf.Variable 'Variable:0' shape=(1,) dtype=float32, numpy=array([0.2226433], dtype=float32)>\n"
          ]
        }
      ]
    },
    {
      "cell_type": "markdown",
      "metadata": {
        "id": "c8K0KZiVfjji"
      },
      "source": [
        "### **Step 2: Take a step in the direction with the steepest gradient**\n",
        "### **Step 3: Calculate the new loss**\n",
        "### **Step 4: Repeat steps 2 and 3**\n",
        "\n"
      ]
    },
    {
      "cell_type": "code",
      "metadata": {
        "id": "njL9lX96nQtG",
        "colab": {
          "base_uri": "https://localhost:8080/"
        },
        "outputId": "d7887f10-2d25-4119-d10a-1ac2b7ccda73"
      },
      "source": [
        "for steps in range(100):\n",
        "\n",
        "  with tf.GradientTape() as tape:\n",
        "\n",
        "   # Predict\n",
        "   predictions = tf.matmul(X_train, weight) + bias\n",
        "\n",
        "   # Calculate loss\n",
        "   loss = tf.reduce_mean(tf.square(y_train - predictions)) # mean square error\n",
        "   dloss_dw, dloss_db = tape.gradient(loss, [weight, bias])\n",
        "\n",
        "  weight.assign_sub(learning_rate * dloss_dw)\n",
        "  bias.assign_sub(learning_rate * dloss_db)\n",
        "\n",
        "  print('Step %d: Weight:%1d Bias:%d Loss = %.0f' % (steps+1, weight, bias, loss))"
      ],
      "execution_count": null,
      "outputs": [
        {
          "output_type": "stream",
          "name": "stdout",
          "text": [
            "Step 1: Weight:67 Bias:257 Loss = 175151168\n",
            "Step 2: Weight:133 Bias:509 Loss = 168153088\n",
            "Step 3: Weight:197 Bias:756 Loss = 161451280\n",
            "Step 4: Weight:259 Bias:997 Loss = 155033200\n",
            "Step 5: Weight:321 Bias:1233 Loss = 148886848\n",
            "Step 6: Weight:381 Bias:1464 Loss = 143000688\n",
            "Step 7: Weight:439 Bias:1690 Loss = 137363744\n",
            "Step 8: Weight:496 Bias:1911 Loss = 131965416\n",
            "Step 9: Weight:552 Bias:2128 Loss = 126795640\n",
            "Step 10: Weight:607 Bias:2340 Loss = 121844744\n",
            "Step 11: Weight:661 Bias:2547 Loss = 117103424\n",
            "Step 12: Weight:713 Bias:2750 Loss = 112562824\n",
            "Step 13: Weight:764 Bias:2949 Loss = 108214472\n",
            "Step 14: Weight:814 Bias:3144 Loss = 104050200\n",
            "Step 15: Weight:863 Bias:3334 Loss = 100062208\n",
            "Step 16: Weight:911 Bias:3520 Loss = 96243048\n",
            "Step 17: Weight:958 Bias:3702 Loss = 92585576\n",
            "Step 18: Weight:1004 Bias:3881 Loss = 89082936\n",
            "Step 19: Weight:1048 Bias:4055 Loss = 85728576\n",
            "Step 20: Weight:1092 Bias:4226 Loss = 82516216\n",
            "Step 21: Weight:1135 Bias:4393 Loss = 79439856\n",
            "Step 22: Weight:1177 Bias:4557 Loss = 76493712\n",
            "Step 23: Weight:1217 Bias:4717 Loss = 73672280\n",
            "Step 24: Weight:1257 Bias:4874 Loss = 70970296\n",
            "Step 25: Weight:1296 Bias:5027 Loss = 68382704\n",
            "Step 26: Weight:1335 Bias:5177 Loss = 65904644\n",
            "Step 27: Weight:1372 Bias:5324 Loss = 63531484\n",
            "Step 28: Weight:1408 Bias:5468 Loss = 61258772\n",
            "Step 29: Weight:1444 Bias:5609 Loss = 59082276\n",
            "Step 30: Weight:1479 Bias:5746 Loss = 56997916\n",
            "Step 31: Weight:1513 Bias:5881 Loss = 55001772\n",
            "Step 32: Weight:1546 Bias:6013 Loss = 53090136\n",
            "Step 33: Weight:1579 Bias:6142 Loss = 51259412\n",
            "Step 34: Weight:1610 Bias:6268 Loss = 49506184\n",
            "Step 35: Weight:1642 Bias:6392 Loss = 47827168\n",
            "Step 36: Weight:1672 Bias:6513 Loss = 46219220\n",
            "Step 37: Weight:1702 Bias:6631 Loss = 44679340\n",
            "Step 38: Weight:1731 Bias:6747 Loss = 43204636\n",
            "Step 39: Weight:1759 Bias:6861 Loss = 41792344\n",
            "Step 40: Weight:1787 Bias:6972 Loss = 40439836\n",
            "Step 41: Weight:1814 Bias:7081 Loss = 39144572\n",
            "Step 42: Weight:1840 Bias:7187 Loss = 37904132\n",
            "Step 43: Weight:1866 Bias:7291 Loss = 36716184\n",
            "Step 44: Weight:1891 Bias:7393 Loss = 35578524\n",
            "Step 45: Weight:1916 Bias:7493 Loss = 34489008\n",
            "Step 46: Weight:1940 Bias:7590 Loss = 33445606\n",
            "Step 47: Weight:1963 Bias:7686 Loss = 32446362\n",
            "Step 48: Weight:1986 Bias:7779 Loss = 31489408\n",
            "Step 49: Weight:2009 Bias:7871 Loss = 30572958\n",
            "Step 50: Weight:2031 Bias:7960 Loss = 29695286\n",
            "Step 51: Weight:2052 Bias:8048 Loss = 28854754\n",
            "Step 52: Weight:2073 Bias:8133 Loss = 28049794\n",
            "Step 53: Weight:2093 Bias:8217 Loss = 27278898\n",
            "Step 54: Weight:2113 Bias:8300 Loss = 26540624\n",
            "Step 55: Weight:2133 Bias:8380 Loss = 25833584\n",
            "Step 56: Weight:2152 Bias:8459 Loss = 25156470\n",
            "Step 57: Weight:2170 Bias:8536 Loss = 24508000\n",
            "Step 58: Weight:2188 Bias:8611 Loss = 23886966\n",
            "Step 59: Weight:2206 Bias:8685 Loss = 23292216\n",
            "Step 60: Weight:2223 Bias:8757 Loss = 22722624\n",
            "Step 61: Weight:2240 Bias:8828 Loss = 22177136\n",
            "Step 62: Weight:2257 Bias:8897 Loss = 21654724\n",
            "Step 63: Weight:2273 Bias:8965 Loss = 21154410\n",
            "Step 64: Weight:2288 Bias:9031 Loss = 20675266\n",
            "Step 65: Weight:2304 Bias:9096 Loss = 20216388\n",
            "Step 66: Weight:2319 Bias:9159 Loss = 19776920\n",
            "Step 67: Weight:2333 Bias:9221 Loss = 19356042\n",
            "Step 68: Weight:2348 Bias:9282 Loss = 18952968\n",
            "Step 69: Weight:2361 Bias:9342 Loss = 18566940\n",
            "Step 70: Weight:2375 Bias:9400 Loss = 18197242\n",
            "Step 71: Weight:2388 Bias:9457 Loss = 17843176\n",
            "Step 72: Weight:2401 Bias:9513 Loss = 17504088\n",
            "Step 73: Weight:2414 Bias:9568 Loss = 17179336\n",
            "Step 74: Weight:2426 Bias:9621 Loss = 16868316\n",
            "Step 75: Weight:2438 Bias:9673 Loss = 16570449\n",
            "Step 76: Weight:2449 Bias:9725 Loss = 16285177\n",
            "Step 77: Weight:2461 Bias:9775 Loss = 16011967\n",
            "Step 78: Weight:2472 Bias:9824 Loss = 15750304\n",
            "Step 79: Weight:2483 Bias:9872 Loss = 15499704\n",
            "Step 80: Weight:2493 Bias:9919 Loss = 15259696\n",
            "Step 81: Weight:2504 Bias:9965 Loss = 15029832\n",
            "Step 82: Weight:2514 Bias:10010 Loss = 14809686\n",
            "Step 83: Weight:2523 Bias:10054 Loss = 14598839\n",
            "Step 84: Weight:2533 Bias:10097 Loss = 14396904\n",
            "Step 85: Weight:2542 Bias:10140 Loss = 14203504\n",
            "Step 86: Weight:2551 Bias:10181 Loss = 14018275\n",
            "Step 87: Weight:2560 Bias:10222 Loss = 13840870\n",
            "Step 88: Weight:2568 Bias:10261 Loss = 13670960\n",
            "Step 89: Weight:2577 Bias:10300 Loss = 13508224\n",
            "Step 90: Weight:2585 Bias:10338 Loss = 13352366\n",
            "Step 91: Weight:2593 Bias:10375 Loss = 13203088\n",
            "Step 92: Weight:2600 Bias:10412 Loss = 13060112\n",
            "Step 93: Weight:2608 Bias:10447 Loss = 12923173\n",
            "Step 94: Weight:2615 Bias:10482 Loss = 12792015\n",
            "Step 95: Weight:2622 Bias:10516 Loss = 12666394\n",
            "Step 96: Weight:2629 Bias:10550 Loss = 12546075\n",
            "Step 97: Weight:2636 Bias:10582 Loss = 12430833\n",
            "Step 98: Weight:2642 Bias:10614 Loss = 12320454\n",
            "Step 99: Weight:2649 Bias:10646 Loss = 12214735\n",
            "Step 100: Weight:2655 Bias:10676 Loss = 12113473\n"
          ]
        }
      ]
    },
    {
      "cell_type": "code",
      "metadata": {
        "id": "HTTqfSLlkzDw"
      },
      "source": [],
      "execution_count": null,
      "outputs": []
    }
  ]
}